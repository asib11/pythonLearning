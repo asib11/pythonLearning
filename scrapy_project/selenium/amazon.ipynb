{
 "cells": [
  {
   "cell_type": "code",
   "execution_count": 154,
   "id": "844959be-f7bb-4054-89a2-5b9f3690fcba",
   "metadata": {},
   "outputs": [],
   "source": [
    "from selenium import webdriver\n",
    "from selenium.webdriver.common.by import By\n",
    "from selenium.webdriver.common.keys import Keys\n",
    "import time\n",
    "import pandas as pd\n",
    "\n",
    "driver = webdriver.Chrome()\n",
    "driver.maximize_window()\n",
    "driver.implicitly_wait(10)\n"
   ]
  },
  {
   "cell_type": "code",
   "execution_count": 155,
   "id": "32349cea-096a-46a6-8718-9c3330ee9e0a",
   "metadata": {},
   "outputs": [],
   "source": [
    "url = [\"https://www.amazon.com/dp/B08HH4DDRP\",\"https://www.amazon.com/dp/B09Z6DWMPH\",\"https://www.amazon.com/dp/B08HH5W38D\",\"https://www.amazon.com/dp/B08HH66CX3\", \"https://www.amazon.com/dp/B08HJ9YNYZ\",\"https://www.amazon.com/dp/B09YM4QB1L\"]\n",
    "data = []"
   ]
  },
  {
   "cell_type": "code",
   "execution_count": 156,
   "id": "0ddecb3d-d3a2-4ae4-a774-a11d164ab2a9",
   "metadata": {},
   "outputs": [
    {
     "name": "stdout",
     "output_type": "stream",
     "text": [
      "[{'title': 'Utopia Bedding Queen Sheet Set - Jersey Knit Sheets 4 Piece – Cotton – Soft T-Shirt Stretchy Sheets ( Heather Light Grey)', 'price': '', 'ASIN': 'B08HH4DDRP', 'size': 'Queen', 'color': 'Light Grey', 'brand': 'Utopia Bedding', 'description': 'Size & Material: 4 pieces Jersey Sheet Set that includes a fitted sheet measuring 60 by 80 inches with a 15 inches deep pocket, a flat sheet measuring 90 by 102 inches and two pillowcases measuring 20 by 30 inches. The material is Cotton Blend meaning Cotton and Polyester.\\nCOZY AND COMFORTABLE: The Jersey Sheets are stretchy, soft, and cozy, just like your favorite T-shirt. You’ll feel extra comfortable while lying down on this jersey sheet and compelled to stay in bed for an extended amount of time.\\nSUITABLE FOR ALL SEASONS: Our Jersey Sheets are designed significantly for all seasons so that you can experience a pleasant sleep consistently.\\nATTRACTIVE COLOR RANGE: This sheet comes in a variety of attractive and stylish color ranges to match it up with the overall and bedding and décor of your room.\\nEASY CARE: Machine wash in cold water; do not bleach; tumble dry or iron at normal temperature.', 'img-link': 'https://m.media-amazon.com/images/I/919c6y7WMgL._AC_SX569_.jpg'}, {'title': 'Reafort Ultra Soft Sherpa Pillowcases Pillow Covers Standard Size 20\"x26\" Pack of 2 with Zipper Closure (Charcoal Grey, 20”x26” Standard Sham)', 'price': '', 'ASIN': 'B09Z6DWMPH', 'size': '20”x26” Standard Sham', 'color': 'Charcoal Grey', 'brand': 'Reafort', 'description': '100% polyester thick sherpa material. Adding soft and warm feel to your Stand Sham.\\nSize: 20\"x26\" standard sham with zipper closure. Easy to put on and take off.\\nMachine wash cold, tumble dry low. Do not bleach.\\nThese are cover only, Do NOT contain a pillow.\\nUS based small busines.', 'img-link': 'https://m.media-amazon.com/images/I/714vKtu9VNL._AC_SX569_.jpg'}]\n"
     ]
    }
   ],
   "source": [
    "for i in url[:2]:\n",
    "    driver.get(i)\n",
    "    driver.implicitly_wait(10)\n",
    "\n",
    "    #title\n",
    "    try:\n",
    "        title = driver.find_element(By.XPATH, '//span[@class=\"a-size-large product-title-word-break\"]').text\n",
    "    except:\n",
    "        title = ''\n",
    "\n",
    "    #price\n",
    "    try:\n",
    "        price = driver.find_element(By.XPATH, '//span[contains(@class,\"priceToPay\")]').text\n",
    "        #price = driver.find_element(By.XPATH, '(//div[@class=\"a-section a-spacing-none aok-align-center aok-relative\"]/span[@class=\"aok-offscreen\"])[1]').text\n",
    "    except:\n",
    "        price = ''\n",
    "    #size\n",
    "    try:\n",
    "        size = driver.find_element(By.XPATH, '//tr[@class=\"a-spacing-small po-size\"]/td[@class=\"a-span9\"]/span').text\n",
    "    except:\n",
    "        size = ''\n",
    "\n",
    "    #color\n",
    "    try:\n",
    "        color = driver.find_element(By.XPATH, '//tr[@class=\"a-spacing-small po-color\"]/td[@class=\"a-span9\"]/span').text\n",
    "    except:\n",
    "        color = ''\n",
    "\n",
    "    #brand\n",
    "    try:\n",
    "        brand = driver.find_element(By.XPATH, '//tr[@class=\"a-spacing-small po-brand\"]/td[@class=\"a-span9\"]/span').text\n",
    "    except:\n",
    "        brand = ''\n",
    "    #asin\n",
    "    try:\n",
    "        asin = driver.find_element(By.XPATH, '//tr[19]/td[1][@class=\"a-size-base prodDetAttrValue\"]').text\n",
    "    except:\n",
    "        asin = ''\n",
    "\n",
    "    #about\n",
    "    try:\n",
    "        description = driver.find_element(By.XPATH, '//ul[@class=\"a-unordered-list a-vertical a-spacing-mini\"]').text\n",
    "    except:\n",
    "        description = ''\n",
    "\n",
    "    #image\n",
    "    try:\n",
    "        #link = driver.find_element(By.XPATH, '//div[@id=\"imgTagWrapperId\"]/img[starts-with(@src,\"https://m.media-amazon\")]').get_attribute('src')\n",
    "        link = driver.find_element(By.XPATH, '(//div[@class=\"imgTagWrapper\"]/img[starts-with(@src,\"https://m.media-amazon\")])[1]').get_attribute('src')\n",
    "    except:\n",
    "        link = ''\n",
    "        \n",
    "    time.sleep(5)\n",
    "    data.append({'title':title, 'price':price, 'ASIN': asin, 'size': size, 'color':color, 'brand':brand, 'description': description, 'img-link':link})\n",
    "driver.quit()\n",
    "\n",
    "print(data)\n"
   ]
  },
  {
   "cell_type": "code",
   "execution_count": 157,
   "id": "6c00c449-f98b-4352-861c-7e85351a91af",
   "metadata": {},
   "outputs": [
    {
     "data": {
      "text/plain": [
       "2"
      ]
     },
     "execution_count": 157,
     "metadata": {},
     "output_type": "execute_result"
    }
   ],
   "source": [
    "len(data)"
   ]
  },
  {
   "cell_type": "code",
   "execution_count": 158,
   "id": "4419c3ac-f239-4e5a-a459-70e5244df221",
   "metadata": {},
   "outputs": [
    {
     "ename": "PermissionError",
     "evalue": "[Errno 13] Permission denied: 'amazon_product.csv'",
     "output_type": "error",
     "traceback": [
      "\u001b[1;31m---------------------------------------------------------------------------\u001b[0m",
      "\u001b[1;31mPermissionError\u001b[0m                           Traceback (most recent call last)",
      "Cell \u001b[1;32mIn[158], line 3\u001b[0m\n\u001b[0;32m      1\u001b[0m \u001b[38;5;28;01mimport\u001b[39;00m \u001b[38;5;21;01mcsv\u001b[39;00m\n\u001b[1;32m----> 3\u001b[0m \u001b[38;5;28;01mwith\u001b[39;00m \u001b[38;5;28;43mopen\u001b[39;49m\u001b[43m(\u001b[49m\u001b[38;5;124;43m\"\u001b[39;49m\u001b[38;5;124;43mamazon_product.csv\u001b[39;49m\u001b[38;5;124;43m\"\u001b[39;49m\u001b[43m,\u001b[49m\u001b[43m \u001b[49m\u001b[38;5;124;43m\"\u001b[39;49m\u001b[38;5;124;43mw\u001b[39;49m\u001b[38;5;124;43m\"\u001b[39;49m\u001b[43m)\u001b[49m \u001b[38;5;28;01mas\u001b[39;00m file:\n\u001b[0;32m      4\u001b[0m     header \u001b[38;5;241m=\u001b[39m [\u001b[38;5;124m\"\u001b[39m\u001b[38;5;124mtitle\u001b[39m\u001b[38;5;124m\"\u001b[39m,\u001b[38;5;124m\"\u001b[39m\u001b[38;5;124mprice\u001b[39m\u001b[38;5;124m\"\u001b[39m,\u001b[38;5;124m\"\u001b[39m\u001b[38;5;124mASIN\u001b[39m\u001b[38;5;124m\"\u001b[39m, \u001b[38;5;124m\"\u001b[39m\u001b[38;5;124msize\u001b[39m\u001b[38;5;124m\"\u001b[39m, \u001b[38;5;124m\"\u001b[39m\u001b[38;5;124mcolor\u001b[39m\u001b[38;5;124m\"\u001b[39m,\u001b[38;5;124m\"\u001b[39m\u001b[38;5;124mbrand\u001b[39m\u001b[38;5;124m\"\u001b[39m,\u001b[38;5;124m\"\u001b[39m\u001b[38;5;124mdescription\u001b[39m\u001b[38;5;124m\"\u001b[39m,\u001b[38;5;124m\"\u001b[39m\u001b[38;5;124mimg-link\u001b[39m\u001b[38;5;124m\"\u001b[39m]\n\u001b[0;32m      5\u001b[0m     writer \u001b[38;5;241m=\u001b[39m csv\u001b[38;5;241m.\u001b[39mDictWriter(file, fieldnames\u001b[38;5;241m=\u001b[39mheader)\n",
      "File \u001b[1;32m~\\AppData\\Roaming\\Python\\Python311\\site-packages\\IPython\\core\\interactiveshell.py:284\u001b[0m, in \u001b[0;36m_modified_open\u001b[1;34m(file, *args, **kwargs)\u001b[0m\n\u001b[0;32m    277\u001b[0m \u001b[38;5;28;01mif\u001b[39;00m file \u001b[38;5;129;01min\u001b[39;00m {\u001b[38;5;241m0\u001b[39m, \u001b[38;5;241m1\u001b[39m, \u001b[38;5;241m2\u001b[39m}:\n\u001b[0;32m    278\u001b[0m     \u001b[38;5;28;01mraise\u001b[39;00m \u001b[38;5;167;01mValueError\u001b[39;00m(\n\u001b[0;32m    279\u001b[0m         \u001b[38;5;124mf\u001b[39m\u001b[38;5;124m\"\u001b[39m\u001b[38;5;124mIPython won\u001b[39m\u001b[38;5;124m'\u001b[39m\u001b[38;5;124mt let you open fd=\u001b[39m\u001b[38;5;132;01m{\u001b[39;00mfile\u001b[38;5;132;01m}\u001b[39;00m\u001b[38;5;124m by default \u001b[39m\u001b[38;5;124m\"\u001b[39m\n\u001b[0;32m    280\u001b[0m         \u001b[38;5;124m\"\u001b[39m\u001b[38;5;124mas it is likely to crash IPython. If you know what you are doing, \u001b[39m\u001b[38;5;124m\"\u001b[39m\n\u001b[0;32m    281\u001b[0m         \u001b[38;5;124m\"\u001b[39m\u001b[38;5;124myou can use builtins\u001b[39m\u001b[38;5;124m'\u001b[39m\u001b[38;5;124m open.\u001b[39m\u001b[38;5;124m\"\u001b[39m\n\u001b[0;32m    282\u001b[0m     )\n\u001b[1;32m--> 284\u001b[0m \u001b[38;5;28;01mreturn\u001b[39;00m \u001b[43mio_open\u001b[49m\u001b[43m(\u001b[49m\u001b[43mfile\u001b[49m\u001b[43m,\u001b[49m\u001b[43m \u001b[49m\u001b[38;5;241;43m*\u001b[39;49m\u001b[43margs\u001b[49m\u001b[43m,\u001b[49m\u001b[43m \u001b[49m\u001b[38;5;241;43m*\u001b[39;49m\u001b[38;5;241;43m*\u001b[39;49m\u001b[43mkwargs\u001b[49m\u001b[43m)\u001b[49m\n",
      "\u001b[1;31mPermissionError\u001b[0m: [Errno 13] Permission denied: 'amazon_product.csv'"
     ]
    }
   ],
   "source": [
    "import csv\n",
    "\n",
    "with open(\"amazon_product.csv\", \"w\") as file:\n",
    "    header = [\"title\",\"price\",\"ASIN\", \"size\", \"color\",\"brand\",\"description\",\"img-link\"]\n",
    "    writer = csv.DictWriter(file, fieldnames=header)\n",
    "    writer.writeheader()\n",
    "    writer.writerows(data)\n",
    "print(\"done file make\")"
   ]
  },
  {
   "cell_type": "code",
   "execution_count": null,
   "id": "5aeeb403-f5fa-4091-b74b-85642bd02ed8",
   "metadata": {},
   "outputs": [],
   "source": [
    "# list_img= []\n",
    "#     try:\n",
    "#         #image = driver.find_element(By.XPATH, '//li[@class=\"a-spacing-small item imageThumbnail a-declarative\"]/span/span/span/span/img[starts-with(@src,\"https://m.media-amazon\")]')\n",
    "#         image = driver.find_element(By.XPATH, '//li[@class=\"a-spacing-small item imageThumbnail a-declarative\"]')\n",
    "#         for im in range(len(image)):\n",
    "#             img_list = driver.find_element(By.XPATH, '//li[@class=\"a-spacing-small item imageThumbnail a-declarative\"]/span/span/span/span/img[starts-with(@src,\"https://m.media-amazon\")]')\n",
    "#             list_img.append(img_list[im])\n",
    "#         print(list_img)\n",
    "#     except:\n",
    "#         print(\"error\")"
   ]
  }
 ],
 "metadata": {
  "kernelspec": {
   "display_name": "Python 3 (ipykernel)",
   "language": "python",
   "name": "python3"
  },
  "language_info": {
   "codemirror_mode": {
    "name": "ipython",
    "version": 3
   },
   "file_extension": ".py",
   "mimetype": "text/x-python",
   "name": "python",
   "nbconvert_exporter": "python",
   "pygments_lexer": "ipython3",
   "version": "3.11.4"
  }
 },
 "nbformat": 4,
 "nbformat_minor": 5
}
