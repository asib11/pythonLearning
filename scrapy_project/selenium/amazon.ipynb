{
 "cells": [
  {
   "cell_type": "code",
   "execution_count": 127,
   "id": "844959be-f7bb-4054-89a2-5b9f3690fcba",
   "metadata": {},
   "outputs": [],
   "source": [
    "from selenium import webdriver\n",
    "from selenium.webdriver.common.by import By\n",
    "from selenium.webdriver.common.keys import Keys\n",
    "import time\n",
    "import pandas as pd\n",
    "\n",
    "driver = webdriver.Chrome()\n",
    "driver.maximize_window()\n",
    "driver.implicitly_wait(10)\n"
   ]
  },
  {
   "cell_type": "code",
   "execution_count": 128,
   "id": "32349cea-096a-46a6-8718-9c3330ee9e0a",
   "metadata": {},
   "outputs": [],
   "source": [
    "url = [\"https://www.amazon.com/dp/B08HH4DDRP\",\"https://www.amazon.com/dp/B09Z6DWMPH\",\"https://www.amazon.com/dp/B08HH5W38D\",\"https://www.amazon.com/dp/B08HH66CX3\", \"https://www.amazon.com/dp/B08HJ9YNYZ\",\"https://www.amazon.com/dp/B09YM4QB1L\"]\n",
    "data = []\n"
   ]
  },
  {
   "cell_type": "code",
   "execution_count": 129,
   "id": "0ddecb3d-d3a2-4ae4-a774-a11d164ab2a9",
   "metadata": {},
   "outputs": [
    {
     "name": "stdout",
     "output_type": "stream",
     "text": [
      "[{'title': 'Utopia Bedding Queen Sheet Set - Jersey Knit Sheets 4 Piece – Cotton – Soft T-Shirt Stretchy Sheets ( Heather Light Grey)', 'price': '$34.99', 'ASIN': 'B08HH4DDRP', 'size': 'Queen', 'color': 'Light Grey', 'brand': 'Utopia Bedding', 'description': 'Size & Material: 4 pieces Jersey Sheet Set that includes a fitted sheet measuring 60 by 80 inches with a 15 inches deep pocket, a flat sheet measuring 90 by 102 inches and two pillowcases measuring 20 by 30 inches. The material is Cotton Blend meaning Cotton and Polyester.\\nCOZY AND COMFORTABLE: The Jersey Sheets are stretchy, soft, and cozy, just like your favorite T-shirt. You’ll feel extra comfortable while lying down on this jersey sheet and compelled to stay in bed for an extended amount of time.\\nSUITABLE FOR ALL SEASONS: Our Jersey Sheets are designed significantly for all seasons so that you can experience a pleasant sleep consistently.\\nATTRACTIVE COLOR RANGE: This sheet comes in a variety of attractive and stylish color ranges to match it up with the overall and bedding and décor of your room.\\nEASY CARE: Machine wash in cold water; do not bleach; tumble dry or iron at normal temperature.', 'img-link': ['https://m.media-amazon.com/images/I/51Vr6eV7iEL._AC_US75_.jpg', 'https://m.media-amazon.com/images/I/515wc3FL8tL._AC_US75_.jpg', 'https://m.media-amazon.com/images/I/519khHrYKUL._AC_US75_.jpg', 'https://m.media-amazon.com/images/I/41cIxPwX4VL._AC_US75_.jpg', 'https://m.media-amazon.com/images/I/41RwRFosXYL._AC_US75_.jpg', 'https://m.media-amazon.com/images/I/51M9B4NDpvL._AC_US75_.jpg']}, {'title': 'Reafort Ultra Soft Sherpa Pillowcases Pillow Covers Standard Size 20\"x26\" Pack of 2 with Zipper Closure (Charcoal Grey, 20”x26” Standard Sham)', 'price': '$13.99', 'ASIN': 'B09Z6DWMPH', 'size': '20”x26” Standard Sham', 'color': 'Charcoal Grey', 'brand': 'Reafort', 'description': '100% polyester thick sherpa material. Adding soft and warm feel to your Stand Sham.\\nSize: 20\"x26\" standard sham with zipper closure. Easy to put on and take off.\\nMachine wash cold, tumble dry low. Do not bleach.\\nThese are cover only, Do NOT contain a pillow.\\nUS based small busines.', 'img-link': ['https://m.media-amazon.com/images/I/415bMF9tOfL._AC_US75_.jpg', 'https://m.media-amazon.com/images/I/51G5j+p0AvL._AC_US75_.jpg', 'https://m.media-amazon.com/images/I/514w9Q6DzaL._AC_US75_.jpg', 'https://m.media-amazon.com/images/I/51Tl1-OgpoL._AC_US75_.jpg', 'https://m.media-amazon.com/images/I/51FcEWq+93L._AC_US75_.jpg']}, {'title': 'Utopia Bedding Bed Linen Set - Jersey Knit Sheets 4 Pieces Set - Cotton Jersey Soft Stretchy Sheets (Queen, Navy)', 'price': '$34.99', 'ASIN': 'B08HH5W38D', 'size': 'Queen', 'color': 'Navy', 'brand': 'Utopia Bedding', 'description': 'Size & Material: 4 pieces Jersey Sheet Set that includes a fitted sheet measuring 60 by 80 inches with a 15 inches deep pocket, a flat sheet measuring 90 by 102 inches and two pillowcases measuring 20 by 30 inches. The material is Cotton Blend meaning Cotton and Polyester.\\nCOZY AND COMFORTABLE: The Jersey Sheets are stretchy, soft, and cozy, just like your favorite T-shirt. You’ll feel extra comfortable while lying down on this jersey sheet and compelled to stay in bed for an extended amount of time.\\nSUITABLE FOR ALL SEASONS: Our Jersey Sheets are designed significantly for all seasons so that you can experience a pleasant sleep consistently.\\nATTRACTIVE COLOR RANGE: This sheet comes in a variety of attractive and stylish color ranges to match it up with the overall and bedding and décor of your room.\\nEASY CARE: Machine wash in cold water; do not bleach; tumble dry or iron at normal temperature.', 'img-link': ['https://m.media-amazon.com/images/I/31Wl8h4zLvL._AC_US75_.jpg', 'https://m.media-amazon.com/images/I/51lullfWEkL._AC_US75_.jpg', 'https://m.media-amazon.com/images/I/51CgFwGCmnL._AC_US75_.jpg', 'https://m.media-amazon.com/images/I/41GLRRPhJ3L._AC_US75_.jpg', 'https://m.media-amazon.com/images/I/418HKoflNPL._AC_US75_.jpg', 'https://m.media-amazon.com/images/I/51WozUCVmjL._AC_US75_.jpg']}, {'title': 'Utopia Bedding Bed Linen Set - Jersey Knit Sheets 4 Pieces Set - Cotton Jersey Soft Stretchy Sheets (Queen, White)', 'price': '$34.99', 'ASIN': 'B08HH66CX3', 'size': 'Queen', 'color': 'White', 'brand': 'Utopia Bedding', 'description': 'Size & Material: 4 pieces Jersey Sheet Set that includes a fitted sheet measuring 60 by 80 inches with a 15 inches deep pocket, a flat sheet measuring 90 by 102 inches and two pillowcases measuring 20 by 30 inches. The material is Cotton Blend meaning Cotton and Polyester.\\nCOZY AND COMFORTABLE: The Jersey Sheets are stretchy, soft, and cozy, just like your favorite T-shirt. You’ll feel extra comfortable while lying down on this jersey sheet and compelled to stay in bed for an extended amount of time.\\nSUITABLE FOR ALL SEASONS: Our Jersey Sheets are designed significantly for all seasons so that you can experience a pleasant sleep consistently.\\nATTRACTIVE COLOR RANGE: This sheet comes in a variety of attractive and stylish color ranges to match it up with the overall and bedding and décor of your room.\\nEASY CARE: Machine wash in cold water; do not bleach; tumble dry or iron at normal temperature.', 'img-link': ['https://m.media-amazon.com/images/I/3106md8m-bL._AC_US75_.jpg', 'https://m.media-amazon.com/images/I/51rkKb4BjML._AC_US75_.jpg', 'https://m.media-amazon.com/images/I/51yqXWumyfL._AC_US75_.jpg', 'https://m.media-amazon.com/images/I/41Od8z8uTxL._AC_US75_.jpg', 'https://m.media-amazon.com/images/I/41d-qDS9fGL._AC_US75_.jpg', 'https://m.media-amazon.com/images/I/41crEqXp+JL._AC_US75_.jpg']}, {'title': 'Utopia Bedding Queen Sheet Set - Jersey Knit Sheets 4 Piece – Cotton – Soft T-Shirt Stretchy Sheets ( Heather Light Grey)', 'price': '$34.99', 'ASIN': 'B08HH4DDRP', 'size': 'Queen', 'color': 'Light Grey', 'brand': 'Utopia Bedding', 'description': 'Size & Material: 4 pieces Jersey Sheet Set that includes a fitted sheet measuring 60 by 80 inches with a 15 inches deep pocket, a flat sheet measuring 90 by 102 inches and two pillowcases measuring 20 by 30 inches. The material is Cotton Blend meaning Cotton and Polyester.\\nCOZY AND COMFORTABLE: The Jersey Sheets are stretchy, soft, and cozy, just like your favorite T-shirt. You’ll feel extra comfortable while lying down on this jersey sheet and compelled to stay in bed for an extended amount of time.\\nSUITABLE FOR ALL SEASONS: Our Jersey Sheets are designed significantly for all seasons so that you can experience a pleasant sleep consistently.\\nATTRACTIVE COLOR RANGE: This sheet comes in a variety of attractive and stylish color ranges to match it up with the overall and bedding and décor of your room.\\nEASY CARE: Machine wash in cold water; do not bleach; tumble dry or iron at normal temperature.', 'img-link': ['https://m.media-amazon.com/images/I/51Vr6eV7iEL._AC_US75_.jpg', 'https://m.media-amazon.com/images/I/515wc3FL8tL._AC_US75_.jpg', 'https://m.media-amazon.com/images/I/519khHrYKUL._AC_US75_.jpg', 'https://m.media-amazon.com/images/I/41cIxPwX4VL._AC_US75_.jpg', 'https://m.media-amazon.com/images/I/41RwRFosXYL._AC_US75_.jpg', 'https://m.media-amazon.com/images/I/51M9B4NDpvL._AC_US75_.jpg']}, {'title': 'Utopia Bedding Bed Linen Set - Jersey Knit Sheets 4 Pieces Queen Jersey Sheet Set - Cotton Jersey Sheets - Soft T-Shirt Stretchy Sheets (Queen, Oatmeal)', 'price': '$37.99', 'ASIN': 'Pakistan', 'size': 'Queen', 'color': 'Oatmeal', 'brand': 'Utopia Bedding', 'description': 'Size & Material: 4 pieces Jersey Sheet Set that includes a fitted sheet measuring 60 by 80 inches with a 15 inches deep pocket, a flat sheet measuring 90 by 102 inches and two pillowcases measuring 20 by 30 inches. The material is Cotton Blend meaning Cotton and Polyester.\\nCOZY AND COMFORTABLE: The Jersey Sheets are stretchy, soft, and cozy, just like your favorite T-shirt. You’ll feel extra comfortable while lying down on this jersey sheet and compelled to stay in bed for an extended amount of time.\\nSUITABLE FOR ALL SEASONS: Our Jersey Sheets are designed significantly for all seasons so that you can experience a pleasant sleep consistently.\\nATTRACTIVE COLOR RANGE: This sheet comes in a variety of attractive and stylish color ranges to match it up with the overall and bedding and décor of your room.\\nEASY CARE: Machine wash in cold water; do not bleach; tumble dry or iron at normal temperature.', 'img-link': ['https://m.media-amazon.com/images/I/51bb+hVKcGL._AC_US75_.jpg', 'https://m.media-amazon.com/images/I/51yLbVDfCXL._AC_US75_.jpg', 'https://m.media-amazon.com/images/I/51Ic4pI9NVL._AC_US75_.jpg', 'https://m.media-amazon.com/images/I/41ED55Tzi9L._AC_US75_.jpg', 'https://m.media-amazon.com/images/I/41adAEkHmXL._AC_US75_.jpg', 'https://m.media-amazon.com/images/I/51uwTKFs7pL._AC_US75_.jpg']}]\n"
     ]
    }
   ],
   "source": [
    "for i in url:\n",
    "    driver.get(i)\n",
    "    driver.implicitly_wait(5)\n",
    "\n",
    "    #title\n",
    "    try:\n",
    "        title = driver.find_element(By.XPATH, '//span[@class=\"a-size-large product-title-word-break\"]').text\n",
    "    except:\n",
    "        title = ''\n",
    "\n",
    "    #price\n",
    "    try:\n",
    "        price = driver.find_element(By.XPATH, '//span[contains(@class,\"priceToPay\")]').text.replace('\\n','.')\n",
    "        #price = driver.find_element(By.XPATH, '(//div[@class=\"a-section a-spacing-none aok-align-center aok-relative\"]/span[@class=\"aok-offscreen\"])[1]').text\n",
    "    except:\n",
    "        price = ''\n",
    "    #size\n",
    "    try:\n",
    "        size = driver.find_element(By.XPATH, '//tr[@class=\"a-spacing-small po-size\"]/td[@class=\"a-span9\"]/span').text\n",
    "    except:\n",
    "        size = ''\n",
    "\n",
    "    #color\n",
    "    try:\n",
    "        color = driver.find_element(By.XPATH, '//tr[@class=\"a-spacing-small po-color\"]/td[@class=\"a-span9\"]/span').text\n",
    "    except:\n",
    "        color = ''\n",
    "\n",
    "    #brand\n",
    "    try:\n",
    "        brand = driver.find_element(By.XPATH, '//tr[@class=\"a-spacing-small po-brand\"]/td[@class=\"a-span9\"]/span').text\n",
    "    except:\n",
    "        brand = ''\n",
    "    #asin\n",
    "    try:\n",
    "        asin = driver.find_element(By.XPATH, '//tr[19]/td[1][@class=\"a-size-base prodDetAttrValue\"]').text\n",
    "    except:\n",
    "        asin = ''\n",
    "\n",
    "    #about\n",
    "    try:\n",
    "        description = driver.find_element(By.XPATH, '//ul[@class=\"a-unordered-list a-vertical a-spacing-mini\"]').text\n",
    "    except:\n",
    "        description = ''\n",
    "\n",
    "    #image\n",
    "    # try:\n",
    "    #     #link = driver.find_element(By.XPATH, '//div[@id=\"imgTagWrapperId\"]/img[starts-with(@src,\"https://m.media-amazon\")]').get_attribute('src')\n",
    "    #     link = driver.find_element(By.XPATH, '(//div[@class=\"imgTagWrapper\"]/img[starts-with(@src,\"https://m.media-amazon\")])').get_attribute('src')\n",
    "    # except:\n",
    "    #     link = ''\n",
    "    link = []\n",
    "    try:\n",
    "        image = driver.find_elements(By.XPATH, '//li[@class=\"a-spacing-small item imageThumbnail a-declarative\"]/span/span/span/span/img[starts-with(@src,\"https://m.media-amazon\")]')\n",
    "        for im in image:\n",
    "            link.append(im.get_attribute('src'))\n",
    "        # print(list_img)\n",
    "    except:\n",
    "        link = ''\n",
    "        \n",
    "    time.sleep(2)\n",
    "    data.append({'title':title, 'price':price, 'ASIN': asin, 'size': size, 'color':color, 'brand':brand, 'description': description, 'img-link':link})\n",
    "driver.quit()\n",
    "\n",
    "print(data)\n"
   ]
  },
  {
   "cell_type": "code",
   "execution_count": 130,
   "id": "6c00c449-f98b-4352-861c-7e85351a91af",
   "metadata": {},
   "outputs": [
    {
     "data": {
      "text/plain": [
       "6"
      ]
     },
     "execution_count": 130,
     "metadata": {},
     "output_type": "execute_result"
    }
   ],
   "source": [
    "len(data)"
   ]
  },
  {
   "cell_type": "code",
   "execution_count": 131,
   "id": "4419c3ac-f239-4e5a-a459-70e5244df221",
   "metadata": {},
   "outputs": [
    {
     "name": "stdout",
     "output_type": "stream",
     "text": [
      "done file make\n"
     ]
    }
   ],
   "source": [
    "import csv\n",
    "\n",
    "with open(\"amazon_product.csv\", \"w\") as file:\n",
    "    header = [\"title\",\"price\",\"ASIN\", \"size\", \"color\",\"brand\",\"description\",\"img-link\"]\n",
    "    writer = csv.DictWriter(file, fieldnames=header)\n",
    "    writer.writeheader()\n",
    "    writer.writerows(data)\n",
    "print(\"done file make\")"
   ]
  }
 ],
 "metadata": {
  "kernelspec": {
   "display_name": "Python 3 (ipykernel)",
   "language": "python",
   "name": "python3"
  },
  "language_info": {
   "codemirror_mode": {
    "name": "ipython",
    "version": 3
   },
   "file_extension": ".py",
   "mimetype": "text/x-python",
   "name": "python",
   "nbconvert_exporter": "python",
   "pygments_lexer": "ipython3",
   "version": "3.11.4"
  }
 },
 "nbformat": 4,
 "nbformat_minor": 5
}
